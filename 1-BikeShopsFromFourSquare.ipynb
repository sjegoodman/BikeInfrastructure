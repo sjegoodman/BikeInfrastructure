{
 "cells": [
  {
   "cell_type": "markdown",
   "metadata": {
    "executionInfo": {
     "elapsed": 662,
     "status": "ok",
     "timestamp": 1636996369653,
     "user": {
      "displayName": "Samantha Goodman",
      "photoUrl": "https://lh3.googleusercontent.com/a-/AOh14GiduU1Ti5fgUAuwHCgNjG3AtMOjS-33hik63SlT=s64",
      "userId": "05579524605087869780"
     },
     "user_tz": 360
    },
    "id": "ORujugREJ71Y"
   },
   "source": [
    "# Chicago Bike Infrastructure Project\n",
    "<h3>Capstone Project for Data Analytics Certificate<br>\n",
    "University of Texas<br><br>\n",
    "Samantha Goodman\n",
    "<Br>December 2021</h3><br>\n",
    "This notebook is part 1 of a 5 part series.<br>\n",
    "    <b>1 - Bike Shops from FourSquare API<br></b>\n",
    "        2 - Bike Infrastructure<br>\n",
    "        3 - Background information about neighborhoods<br>\n",
    "        4 - Analysis<br>\n",
    "        5 - Model Building and Predictions<br><br>\n",
    "    Questions this project aims to answer:<br>\n",
    "    <ul><li>Which community areas (neighborhoods) have the most bike infrastructure, and which have the least?</li>\n",
    "<li>Are there areas that show an unmet demand for bike infrastructure (higher rates of Divvy trips, but lower rates of bike lanes and repair shops)?</li>\n",
    "<li>Can I predict bike infrastructure levels based on demographic or community health data?"
   ]
  },
  {
   "cell_type": "code",
   "execution_count": 5,
   "metadata": {},
   "outputs": [],
   "source": [
    "# Import the necessary libraries\n",
    "import pandas as pd\n",
    "import numpy as np\n",
    "# requests for fetching html of website\n",
    "import requests"
   ]
  },
  {
   "cell_type": "code",
   "execution_count": 6,
   "metadata": {
    "colab": {
     "base_uri": "https://localhost:8080/"
    },
    "executionInfo": {
     "elapsed": 132,
     "status": "ok",
     "timestamp": 1636567911388,
     "user": {
      "displayName": "Samantha Goodman",
      "photoUrl": "https://lh3.googleusercontent.com/a-/AOh14GiduU1Ti5fgUAuwHCgNjG3AtMOjS-33hik63SlT=s64",
      "userId": "05579524605087869780"
     },
     "user_tz": 360
    },
    "id": "J-BvzuadKwQ4",
    "outputId": "b7887233-3503-459d-db4e-78af30cb5ecf"
   },
   "outputs": [
    {
     "name": "stdout",
     "output_type": "stream",
     "text": [
      "Your credentails:\n",
      "CLIENT_ID: V3B13NWETEWPBCDTZN0ZV0DWICYSVMSNIXJ5YVPFM4ILS51M\n",
      "CLIENT_SECRET:2JSJLEWXWFCVC1LEEGYK5TXYPTQMNRZDEFZ1EX0TVHXXWRBK\n"
     ]
    }
   ],
   "source": [
    "# Foursquare API Login Info\n",
    "CLIENT_ID = 'V3B13NWETEWPBCDTZN0ZV0DWICYSVMSNIXJ5YVPFM4ILS51M' # my Foursquare ID\n",
    "CLIENT_SECRET = '2JSJLEWXWFCVC1LEEGYK5TXYPTQMNRZDEFZ1EX0TVHXXWRBK' # my Foursquare Secret\n",
    "VERSION = '20211204' # Foursquare API version\n",
    "\n",
    "print('Your credentails:')\n",
    "print('CLIENT_ID: ' + CLIENT_ID)\n",
    "print('CLIENT_SECRET:' + CLIENT_SECRET)"
   ]
  },
  {
   "cell_type": "code",
   "execution_count": 7,
   "metadata": {
    "id": "PL0lsfy-McUb"
   },
   "outputs": [],
   "source": [
    "# function that extracts the category of the venue\n",
    "def get_category_type(row):\n",
    "    try:\n",
    "        categories_list = row['categories']\n",
    "    except:\n",
    "        categories_list = row['venue.categories']\n",
    "        \n",
    "    if len(categories_list) == 0:\n",
    "        return None\n",
    "    else:\n",
    "        return categories_list[0]['name']"
   ]
  },
  {
   "cell_type": "code",
   "execution_count": 8,
   "metadata": {
    "id": "iOmGNEha4Ath"
   },
   "outputs": [],
   "source": [
    "# function that returns venues from FourSquare, if given a zip code and category\n",
    "def get_my_venues(zip_code, cat_name, cat_code, rad):\n",
    "    LIMIT = 1000\n",
    "    radius = rad\n",
    "    url = 'https://api.foursquare.com/v2/venues/explore?client_id={}&client_secret={}&near={}&v={}&radius={}&limit={}&categoryId={}'.format(CLIENT_ID, CLIENT_SECRET, zip_code, VERSION, radius, LIMIT, cat_code)\n",
    "    results = requests.get(url).json()\n",
    "    venues = results['response']['groups'][0]['items']\n",
    "    \n",
    "    nearby_venues = pd.json_normalize(venues) # flatten JSON\n",
    "\n",
    "    # filter columns\n",
    "    filtered_columns = ['venue.name', 'venue.categories', 'venue.location.lat', 'venue.location.lng', 'venue.location.address', 'venue.location.city']\n",
    "    nearby_venues =nearby_venues.loc[:, filtered_columns]\n",
    "\n",
    "    # filter the category for each row\n",
    "    nearby_venues['venue.categories'] = nearby_venues.apply(get_category_type, axis=1)\n",
    "\n",
    "    # clean columns\n",
    "    nearby_venues.columns = [col.split(\".\")[-1] for col in nearby_venues.columns]\n",
    "\n",
    "    return nearby_venues\n",
    "\n",
    "\n"
   ]
  },
  {
   "cell_type": "code",
   "execution_count": 9,
   "metadata": {
    "id": "Pts5MsQiTLgF"
   },
   "outputs": [],
   "source": [
    "# Initializes new dataframe to store venues\n",
    "our_venues = pd.DataFrame()"
   ]
  },
  {
   "cell_type": "code",
   "execution_count": 10,
   "metadata": {
    "id": "oHO5LGLmFzJW"
   },
   "outputs": [],
   "source": [
    "# Gets csv of zip codes in Chicago - cleaned from csv from City of Chicago Data Portal\n",
    "#url = 'https://github.com/sjegoodman/walkable-winters/raw/main/Zip_Codes.csv'\n",
    "chi_zips = pd.read_csv(\"Zip_Codes.csv\")\n",
    "zip_list = chi_zips.values.tolist()"
   ]
  },
  {
   "cell_type": "code",
   "execution_count": 11,
   "metadata": {},
   "outputs": [],
   "source": [
    "# All my applicable category names - this time only bike shops\n",
    "my_categories = {\n",
    "    # FourSquare API documentation has new codes, but they don't work\n",
    "    \"Bike Shop\" : \"4bf58dd8d48988d115951735\",\n",
    "}"
   ]
  },
  {
   "cell_type": "code",
   "execution_count": 12,
   "metadata": {
    "colab": {
     "base_uri": "https://localhost:8080/"
    },
    "executionInfo": {
     "elapsed": 226558,
     "status": "ok",
     "timestamp": 1636568190802,
     "user": {
      "displayName": "Samantha Goodman",
      "photoUrl": "https://lh3.googleusercontent.com/a-/AOh14GiduU1Ti5fgUAuwHCgNjG3AtMOjS-33hik63SlT=s64",
      "userId": "05579524605087869780"
     },
     "user_tz": 360
    },
    "id": "cYOf5U0MmnXO",
    "outputId": "808080ba-611e-4fc3-9479-d1ef9167cecf"
   },
   "outputs": [
    {
     "name": "stdout",
     "output_type": "stream",
     "text": [
      "Bike Shop added to list, size = 36 zipcode: 60647\n",
      "Bike Shop added to list, size = 50 zipcode: 60639\n",
      "Bike Shop added to list, size = 62 zipcode: 60707\n",
      "Bike Shop added to list, size = 110 zipcode: 60622\n",
      "Bike Shop added to list, size = 128 zipcode: 60651\n",
      "Bike Shop added to list, size = 156 zipcode: 60611\n",
      "Bike Shop added to list, size = 183 zipcode: 60638\n",
      "Bike Shop added to list, size = 205 zipcode: 60652\n",
      "Bike Shop added to list, size = 223 zipcode: 60626\n",
      "Bike Shop added to list, size = 233 zipcode: 60615\n",
      "Bike Shop added to list, size = 268 zipcode: 60621\n",
      "Bike Shop added to list, size = 291 zipcode: 60645\n",
      "Bike Shop added to list, size = 309 zipcode: 60643\n",
      "Bike Shop added to list, size = 327 zipcode: 60660\n",
      "Bike Shop added to list, size = 356 zipcode: 60640\n",
      "Bike Shop added to list, size = 400 zipcode: 60614\n",
      "Bike Shop added to list, size = 481 zipcode: 60631\n",
      "Bike Shop added to list, size = 490 zipcode: 60646\n",
      "Bike Shop added to list, size = 505 zipcode: 60628\n",
      "Bike Shop added to list, size = 540 zipcode: 60625\n",
      "Bike Shop added to list, size = 556 zipcode: 60641\n",
      "Bike Shop added to list, size = 601 zipcode: 60657\n",
      "Bike Shop added to list, size = 638 zipcode: 60636\n",
      "Bike Shop added to list, size = 669 zipcode: 60649\n",
      "Bike Shop added to list, size = 684 zipcode: 60617\n",
      "Bike Shop added to list, size = 691 zipcode: 60633\n",
      "Bike Shop added to list, size = 709 zipcode: 60643\n",
      "Bike Shop added to list, size = 730 zipcode: 60612\n",
      "Bike Shop added to list, size = 756 zipcode: 60604\n",
      "Bike Shop added to list, size = 856 zipcode: 60624\n",
      "Bike Shop added to list, size = 896 zipcode: 60656\n",
      "Bike Shop added to list, size = 905 zipcode: 60644\n",
      "Bike Shop added to list, size = 915 zipcode: 60655\n",
      "Bike Shop added to list, size = 941 zipcode: 60603\n",
      "Bike Shop added to list, size = 964 zipcode: 60605\n",
      "Bike Shop added to list, size = 976 zipcode: 60653\n",
      "Bike Shop added to list, size = 984 zipcode: 60609\n",
      "Bike Shop added to list, size = 988 zipcode: 60666\n",
      "Bike Shop added to list, size = 1033 zipcode: 60618\n",
      "Bike Shop added to list, size = 1048 zipcode: 60616\n",
      "Bike Shop added to list, size = 1075 zipcode: 60602\n",
      "Bike Shop added to list, size = 1097 zipcode: 60601\n",
      "Bike Shop added to list, size = 1113 zipcode: 60608\n",
      "Bike Shop added to list, size = 1146 zipcode: 60607\n",
      "Bike Shop added to list, size = 1176 zipcode: 60661\n",
      "Bike Shop added to list, size = 1211 zipcode: 60606\n",
      "Bike Shop added to list, size = 1222 zipcode: 60827\n",
      "Bike Shop added to list, size = 1236 zipcode: 60630\n",
      "Bike Shop added to list, size = 1280 zipcode: 60642\n",
      "Bike Shop added to list, size = 1300 zipcode: 60659\n",
      "Bike Shop added to list, size = 1312 zipcode: 60707\n",
      "Bike Shop added to list, size = 1393 zipcode: 60634\n",
      "Bike Shop added to list, size = 1425 zipcode: 60613\n",
      "Bike Shop added to list, size = 1466 zipcode: 60610\n",
      "Bike Shop added to list, size = 1501 zipcode: 60654\n",
      "Bike Shop added to list, size = 1578 zipcode: 60632\n",
      "Bike Shop added to list, size = 1678 zipcode: 60623\n",
      "Bike Shop added to list, size = 1715 zipcode: 60629\n",
      "Bike Shop added to list, size = 1736 zipcode: 60620\n",
      "Bike Shop added to list, size = 1746 zipcode: 60637\n",
      "Bike Shop added to list, size = 1765 zipcode: 60619\n"
     ]
    }
   ],
   "source": [
    "# For each category and zip code, calls the FourSquare API and appends the results to a our_venues dataframe\n",
    "for cat, code in my_categories.items():\n",
    "    # Calls function with each of Chicago's zip codes\n",
    "    for i in range(len(zip_list)):\n",
    "        try:\n",
    "            my_venues = get_my_venues(zip_list[i][0], cat, code, 4000)\n",
    "            # add it to our_venues df\n",
    "            our_venues = our_venues.append(my_venues, ignore_index = True)\n",
    "            print(cat + \" added to list, size = \" + str(our_venues.shape[0]) + \" zipcode: \" + str(zip_list[i][0]))\n",
    "        except:\n",
    "            print(\"Empty for this zip code: \" + str(zip_list[i][0]))"
   ]
  },
  {
   "cell_type": "code",
   "execution_count": 13,
   "metadata": {
    "colab": {
     "base_uri": "https://localhost:8080/"
    },
    "executionInfo": {
     "elapsed": 164,
     "status": "ok",
     "timestamp": 1636568201063,
     "user": {
      "displayName": "Samantha Goodman",
      "photoUrl": "https://lh3.googleusercontent.com/a-/AOh14GiduU1Ti5fgUAuwHCgNjG3AtMOjS-33hik63SlT=s64",
      "userId": "05579524605087869780"
     },
     "user_tz": 360
    },
    "id": "f8cr-6nmJ7ZY",
    "outputId": "cb814fe2-effa-430d-d50f-20dda129d545"
   },
   "outputs": [
    {
     "data": {
      "text/plain": [
       "(1765, 6)"
      ]
     },
     "execution_count": 13,
     "metadata": {},
     "output_type": "execute_result"
    }
   ],
   "source": [
    "our_venues.shape"
   ]
  },
  {
   "cell_type": "code",
   "execution_count": 14,
   "metadata": {
    "id": "XA9V0RWrVDwR"
   },
   "outputs": [],
   "source": [
    "# Remove duplicate venues\n",
    "our_venues.drop_duplicates(inplace=True, ignore_index=True)"
   ]
  },
  {
   "cell_type": "code",
   "execution_count": 16,
   "metadata": {
    "colab": {
     "base_uri": "https://localhost:8080/",
     "height": 677
    },
    "executionInfo": {
     "elapsed": 145,
     "status": "ok",
     "timestamp": 1636568204457,
     "user": {
      "displayName": "Samantha Goodman",
      "photoUrl": "https://lh3.googleusercontent.com/a-/AOh14GiduU1Ti5fgUAuwHCgNjG3AtMOjS-33hik63SlT=s64",
      "userId": "05579524605087869780"
     },
     "user_tz": 360
    },
    "id": "GtN70ZZkKI0I",
    "outputId": "2c71a5c8-0178-429e-f2d4-76e76ef48f64"
   },
   "outputs": [
    {
     "data": {
      "text/html": [
       "<div>\n",
       "<style scoped>\n",
       "    .dataframe tbody tr th:only-of-type {\n",
       "        vertical-align: middle;\n",
       "    }\n",
       "\n",
       "    .dataframe tbody tr th {\n",
       "        vertical-align: top;\n",
       "    }\n",
       "\n",
       "    .dataframe thead th {\n",
       "        text-align: right;\n",
       "    }\n",
       "</style>\n",
       "<table border=\"1\" class=\"dataframe\">\n",
       "  <thead>\n",
       "    <tr style=\"text-align: right;\">\n",
       "      <th></th>\n",
       "      <th>name</th>\n",
       "      <th>categories</th>\n",
       "      <th>lat</th>\n",
       "      <th>lng</th>\n",
       "      <th>address</th>\n",
       "      <th>city</th>\n",
       "    </tr>\n",
       "  </thead>\n",
       "  <tbody>\n",
       "    <tr>\n",
       "      <th>0</th>\n",
       "      <td>The Bike Lane</td>\n",
       "      <td>Bike Shop</td>\n",
       "      <td>41.919867</td>\n",
       "      <td>-87.692609</td>\n",
       "      <td>2130 N Milwaukee Ave</td>\n",
       "      <td>Chicago</td>\n",
       "    </tr>\n",
       "    <tr>\n",
       "      <th>1</th>\n",
       "      <td>Boulevard Bikes</td>\n",
       "      <td>Bike Shop</td>\n",
       "      <td>41.931570</td>\n",
       "      <td>-87.711180</td>\n",
       "      <td>2769 N Milwaukee Ave</td>\n",
       "      <td>Chicago</td>\n",
       "    </tr>\n",
       "    <tr>\n",
       "      <th>2</th>\n",
       "      <td>BFF Bikes</td>\n",
       "      <td>Bike Shop</td>\n",
       "      <td>41.919360</td>\n",
       "      <td>-87.677780</td>\n",
       "      <td>2056 N Damen Ave</td>\n",
       "      <td>Chicago</td>\n",
       "    </tr>\n",
       "    <tr>\n",
       "      <th>3</th>\n",
       "      <td>Smart Bike Parts Inc</td>\n",
       "      <td>Bike Shop</td>\n",
       "      <td>41.917484</td>\n",
       "      <td>-87.703692</td>\n",
       "      <td>3031 W Armitage Ave</td>\n",
       "      <td>Chicago</td>\n",
       "    </tr>\n",
       "    <tr>\n",
       "      <th>4</th>\n",
       "      <td>Heritage Bicycles</td>\n",
       "      <td>Coffee Shop</td>\n",
       "      <td>41.935760</td>\n",
       "      <td>-87.662830</td>\n",
       "      <td>2959 N Lincoln Avenue</td>\n",
       "      <td>Chicago</td>\n",
       "    </tr>\n",
       "  </tbody>\n",
       "</table>\n",
       "</div>"
      ],
      "text/plain": [
       "                   name   categories        lat        lng  \\\n",
       "0         The Bike Lane    Bike Shop  41.919867 -87.692609   \n",
       "1       Boulevard Bikes    Bike Shop  41.931570 -87.711180   \n",
       "2             BFF Bikes    Bike Shop  41.919360 -87.677780   \n",
       "3  Smart Bike Parts Inc    Bike Shop  41.917484 -87.703692   \n",
       "4     Heritage Bicycles  Coffee Shop  41.935760 -87.662830   \n",
       "\n",
       "                 address     city  \n",
       "0   2130 N Milwaukee Ave  Chicago  \n",
       "1   2769 N Milwaukee Ave  Chicago  \n",
       "2       2056 N Damen Ave  Chicago  \n",
       "3    3031 W Armitage Ave  Chicago  \n",
       "4  2959 N Lincoln Avenue  Chicago  "
      ]
     },
     "execution_count": 16,
     "metadata": {},
     "output_type": "execute_result"
    }
   ],
   "source": [
    "our_venues.head()"
   ]
  },
  {
   "cell_type": "code",
   "execution_count": 17,
   "metadata": {},
   "outputs": [
    {
     "data": {
      "text/html": [
       "<div>\n",
       "<style scoped>\n",
       "    .dataframe tbody tr th:only-of-type {\n",
       "        vertical-align: middle;\n",
       "    }\n",
       "\n",
       "    .dataframe tbody tr th {\n",
       "        vertical-align: top;\n",
       "    }\n",
       "\n",
       "    .dataframe thead th {\n",
       "        text-align: right;\n",
       "    }\n",
       "</style>\n",
       "<table border=\"1\" class=\"dataframe\">\n",
       "  <thead>\n",
       "    <tr style=\"text-align: right;\">\n",
       "      <th></th>\n",
       "      <th>name</th>\n",
       "      <th>categories</th>\n",
       "      <th>lat</th>\n",
       "      <th>lng</th>\n",
       "      <th>address</th>\n",
       "      <th>city</th>\n",
       "    </tr>\n",
       "  </thead>\n",
       "  <tbody>\n",
       "    <tr>\n",
       "      <th>157</th>\n",
       "      <td>Village CycleSport</td>\n",
       "      <td>Bike Shop</td>\n",
       "      <td>42.026652</td>\n",
       "      <td>-87.986725</td>\n",
       "      <td>45 Arlington Heights Rd</td>\n",
       "      <td>Elk Grove Village</td>\n",
       "    </tr>\n",
       "    <tr>\n",
       "      <th>158</th>\n",
       "      <td>fast track</td>\n",
       "      <td>Bike Shop</td>\n",
       "      <td>41.980160</td>\n",
       "      <td>-87.904443</td>\n",
       "      <td>NaN</td>\n",
       "      <td>Des Plaines</td>\n",
       "    </tr>\n",
       "    <tr>\n",
       "      <th>159</th>\n",
       "      <td>Good Speed Cycles</td>\n",
       "      <td>Bike Shop</td>\n",
       "      <td>41.557136</td>\n",
       "      <td>-87.669159</td>\n",
       "      <td>2551 183rd St</td>\n",
       "      <td>Homewood</td>\n",
       "    </tr>\n",
       "    <tr>\n",
       "      <th>160</th>\n",
       "      <td>Goodspeed Cycles - Homewood</td>\n",
       "      <td>Bike Shop</td>\n",
       "      <td>41.557005</td>\n",
       "      <td>-87.668746</td>\n",
       "      <td>2125 183rd St</td>\n",
       "      <td>Homewood</td>\n",
       "    </tr>\n",
       "    <tr>\n",
       "      <th>161</th>\n",
       "      <td>Speed Demon Powersports</td>\n",
       "      <td>Bike Shop</td>\n",
       "      <td>41.575878</td>\n",
       "      <td>-87.736801</td>\n",
       "      <td>4921 173rd St</td>\n",
       "      <td>Country Club Hills</td>\n",
       "    </tr>\n",
       "  </tbody>\n",
       "</table>\n",
       "</div>"
      ],
      "text/plain": [
       "                            name categories        lat        lng  \\\n",
       "157           Village CycleSport  Bike Shop  42.026652 -87.986725   \n",
       "158                   fast track  Bike Shop  41.980160 -87.904443   \n",
       "159            Good Speed Cycles  Bike Shop  41.557136 -87.669159   \n",
       "160  Goodspeed Cycles - Homewood  Bike Shop  41.557005 -87.668746   \n",
       "161      Speed Demon Powersports  Bike Shop  41.575878 -87.736801   \n",
       "\n",
       "                     address                city  \n",
       "157  45 Arlington Heights Rd   Elk Grove Village  \n",
       "158                      NaN         Des Plaines  \n",
       "159            2551 183rd St            Homewood  \n",
       "160            2125 183rd St            Homewood  \n",
       "161            4921 173rd St  Country Club Hills  "
      ]
     },
     "execution_count": 17,
     "metadata": {},
     "output_type": "execute_result"
    }
   ],
   "source": [
    "our_venues.tail()"
   ]
  },
  {
   "cell_type": "code",
   "execution_count": 18,
   "metadata": {
    "id": "N6t0WT5fMmxL"
   },
   "outputs": [],
   "source": [
    "# Initiate new dataframe to store Chicago only venues\n",
    "chi_venues = pd.DataFrame()"
   ]
  },
  {
   "cell_type": "code",
   "execution_count": 19,
   "metadata": {
    "id": "5wYcRe_xJIAq"
   },
   "outputs": [],
   "source": [
    "# Remove non-Chicago venues\n",
    "for i in range(len(our_venues)):\n",
    "    if our_venues.loc[i, 'city'] == 'Chicago':\n",
    "      chi_venues = chi_venues.append(our_venues.loc[i,:])"
   ]
  },
  {
   "cell_type": "code",
   "execution_count": 20,
   "metadata": {
    "colab": {
     "base_uri": "https://localhost:8080/"
    },
    "executionInfo": {
     "elapsed": 167,
     "status": "ok",
     "timestamp": 1636568250526,
     "user": {
      "displayName": "Samantha Goodman",
      "photoUrl": "https://lh3.googleusercontent.com/a-/AOh14GiduU1Ti5fgUAuwHCgNjG3AtMOjS-33hik63SlT=s64",
      "userId": "05579524605087869780"
     },
     "user_tz": 360
    },
    "id": "PTlwtDunM35M",
    "outputId": "a45067a8-2984-4cdd-c9af-960edbe93fd5"
   },
   "outputs": [
    {
     "data": {
      "text/plain": [
       "(111, 6)"
      ]
     },
     "execution_count": 20,
     "metadata": {},
     "output_type": "execute_result"
    }
   ],
   "source": [
    "chi_venues.shape"
   ]
  },
  {
   "cell_type": "code",
   "execution_count": 39,
   "metadata": {
    "id": "qTfi7jqrVOWn"
   },
   "outputs": [],
   "source": [
    "# Saves CSV of the venues\n",
    "chi_venues.to_csv('bike_venues.csv')"
   ]
  }
 ],
 "metadata": {
  "colab": {
   "authorship_tag": "ABX9TyO38hVEbdDJsPXPaVAkdhg/",
   "name": "WalkableWintersFourSquareLocations.ipynb",
   "provenance": [
    {
     "file_id": "1983N0vHGvwvg-EVEqVJAlXB1q1tZRFnI",
     "timestamp": 1636474728096
    }
   ]
  },
  "kernelspec": {
   "display_name": "Python 3",
   "language": "python",
   "name": "python3"
  },
  "language_info": {
   "codemirror_mode": {
    "name": "ipython",
    "version": 3
   },
   "file_extension": ".py",
   "mimetype": "text/x-python",
   "name": "python",
   "nbconvert_exporter": "python",
   "pygments_lexer": "ipython3",
   "version": "3.9.2"
  }
 },
 "nbformat": 4,
 "nbformat_minor": 1
}
